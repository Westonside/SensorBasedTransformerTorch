{
 "cells": [
  {
   "cell_type": "code",
   "execution_count": 92,
   "id": "initial_id",
   "metadata": {
    "ExecuteTime": {
     "end_time": "2023-11-19T18:37:56.784882Z",
     "start_time": "2023-11-19T18:37:56.530256Z"
    }
   },
   "outputs": [],
   "source": [
    "import pandas as pd\n",
    "import numpy as np\n",
    "from scipy import signal\n",
    "import hickle as hkl\n",
    "import os"
   ]
  },
  {
   "cell_type": "code",
   "execution_count": 9,
   "id": "670e025ffd11a060",
   "metadata": {
    "ExecuteTime": {
     "end_time": "2023-11-19T18:38:53.119986Z",
     "start_time": "2023-11-19T18:38:53.118035Z"
    },
    "collapsed": false,
    "jupyter": {
     "outputs_hidden": false
    }
   },
   "outputs": [],
   "source": [
    "loadList = ['Phones_accelerometer.csv','Phones_gyroscope.csv','Watch_accelerometer.csv','Watch_gyroscope.csv']\n",
    "classCounts = ['sit', 'stand', 'walk', 'stairsup', 'stairsdown', 'bike']\n",
    "deviceCounts = ['nexus4', 'lgwatch','s3', 's3mini','gear','samsungold']\n",
    "deviceSamplingRate = [200,200,150,100,100,50]\n",
    "deviceWindowFrame = [512,512,384,256,256,128]\n",
    "downSamplingRate = [4,4,3,2,2,1]\n",
    "subDeviceCounts = ['nexus4_1', 'nexus4_2', 'lgwatch_1', 'lgwatch_2', 's3_1', 's3_2', 's3mini_1', 's3mini_2','gear_1', 'gear_2','samsungold_1', 'samsungold_2']\n",
    "userCounts = ['a', 'b', 'c', 'd', 'e', 'f', 'g', 'h', 'i']"
   ]
  },
  {
   "cell_type": "code",
   "execution_count": 10,
   "id": "68d700842e6c6ca1",
   "metadata": {
    "ExecuteTime": {
     "end_time": "2023-11-19T18:57:44.798383Z",
     "start_time": "2023-11-19T18:57:23.248454Z"
    },
    "collapsed": false,
    "jupyter": {
     "outputs_hidden": false
    }
   },
   "outputs": [
    {
     "data": {
      "text/html": [
       "<div>\n",
       "<style scoped>\n",
       "    .dataframe tbody tr th:only-of-type {\n",
       "        vertical-align: middle;\n",
       "    }\n",
       "\n",
       "    .dataframe tbody tr th {\n",
       "        vertical-align: top;\n",
       "    }\n",
       "\n",
       "    .dataframe thead th {\n",
       "        text-align: right;\n",
       "    }\n",
       "</style>\n",
       "<table border=\"1\" class=\"dataframe\">\n",
       "  <thead>\n",
       "    <tr style=\"text-align: right;\">\n",
       "      <th></th>\n",
       "      <th>x</th>\n",
       "      <th>y</th>\n",
       "      <th>z</th>\n",
       "      <th>User</th>\n",
       "      <th>Model</th>\n",
       "      <th>Device</th>\n",
       "      <th>gt</th>\n",
       "    </tr>\n",
       "  </thead>\n",
       "  <tbody>\n",
       "    <tr>\n",
       "      <th>0</th>\n",
       "      <td>-5.958191</td>\n",
       "      <td>0.688065</td>\n",
       "      <td>8.135345</td>\n",
       "      <td>a</td>\n",
       "      <td>nexus4</td>\n",
       "      <td>nexus4_1</td>\n",
       "      <td>stand</td>\n",
       "    </tr>\n",
       "    <tr>\n",
       "      <th>1</th>\n",
       "      <td>-5.952240</td>\n",
       "      <td>0.670212</td>\n",
       "      <td>8.136536</td>\n",
       "      <td>a</td>\n",
       "      <td>nexus4</td>\n",
       "      <td>nexus4_1</td>\n",
       "      <td>stand</td>\n",
       "    </tr>\n",
       "    <tr>\n",
       "      <th>2</th>\n",
       "      <td>-5.995087</td>\n",
       "      <td>0.653549</td>\n",
       "      <td>8.204376</td>\n",
       "      <td>a</td>\n",
       "      <td>nexus4</td>\n",
       "      <td>nexus4_1</td>\n",
       "      <td>stand</td>\n",
       "    </tr>\n",
       "    <tr>\n",
       "      <th>3</th>\n",
       "      <td>-5.942718</td>\n",
       "      <td>0.676163</td>\n",
       "      <td>8.128204</td>\n",
       "      <td>a</td>\n",
       "      <td>nexus4</td>\n",
       "      <td>nexus4_1</td>\n",
       "      <td>stand</td>\n",
       "    </tr>\n",
       "    <tr>\n",
       "      <th>4</th>\n",
       "      <td>-5.991516</td>\n",
       "      <td>0.641647</td>\n",
       "      <td>8.135345</td>\n",
       "      <td>a</td>\n",
       "      <td>nexus4</td>\n",
       "      <td>nexus4_1</td>\n",
       "      <td>stand</td>\n",
       "    </tr>\n",
       "  </tbody>\n",
       "</table>\n",
       "</div>"
      ],
      "text/plain": [
       "          x         y         z User   Model    Device     gt\n",
       "0 -5.958191  0.688065  8.135345    a  nexus4  nexus4_1  stand\n",
       "1 -5.952240  0.670212  8.136536    a  nexus4  nexus4_1  stand\n",
       "2 -5.995087  0.653549  8.204376    a  nexus4  nexus4_1  stand\n",
       "3 -5.942718  0.676163  8.128204    a  nexus4  nexus4_1  stand\n",
       "4 -5.991516  0.641647  8.135345    a  nexus4  nexus4_1  stand"
      ]
     },
     "execution_count": 10,
     "metadata": {},
     "output_type": "execute_result"
    }
   ],
   "source": [
    "def load_data(filename):\n",
    "    data = pd.read_csv(filename)\n",
    "    data.columns = ['index', 'Arrival_Time', 'Creation_Time', 'x', 'y', 'z', 'User', 'Model', 'Device', 'gt']\n",
    "    data = data.drop(['index', 'Arrival_Time', 'Creation_Time'], axis=1)\n",
    "    return data\n",
    "\n",
    "#load the data\n",
    "#combine the dataframes\n",
    "\n",
    "accel = [load_data('../datasets/extracted/Activity recognition exp/Phones_accelerometer.csv'), load_data('../datasets/extracted/Activity recognition exp/Watch_accelerometer.csv')]\n",
    "\n",
    "gyro = [load_data('../datasets/extracted/Activity recognition exp/Phones_gyroscope.csv'), load_data('../datasets/extracted/Activity recognition exp/Watch_gyroscope.csv')]\n",
    "gyro = pd.concat(gyro)\n",
    "accel = pd.concat(accel)\n",
    "accel.head()"
   ]
  },
  {
   "cell_type": "code",
   "execution_count": 93,
   "id": "f5bbb60c91488b0f",
   "metadata": {
    "ExecuteTime": {
     "end_time": "2023-11-19T21:40:42.175905Z",
     "start_time": "2023-11-19T21:40:42.173054Z"
    },
    "collapsed": false,
    "jupyter": {
     "outputs_hidden": false
    }
   },
   "outputs": [],
   "source": [
    "def segment_data(data, time_step, step:int):\n",
    "    segmentAccData = []\n",
    "    step = int(step)\n",
    "    for i in range(0, data.shape[0] - time_step,step):\n",
    "        segmentAccData.append(data[i:i+time_step,:])\n",
    "    return np.array(segmentAccData)"
   ]
  },
  {
   "cell_type": "code",
   "execution_count": 94,
   "id": "1dfeb58198011f53",
   "metadata": {
    "ExecuteTime": {
     "end_time": "2023-11-19T21:56:24.818978Z",
     "start_time": "2023-11-19T21:56:05.373564Z"
    },
    "collapsed": false,
    "jupyter": {
     "outputs_hidden": false
    },
    "scrolled": true
   },
   "outputs": [],
   "source": [
    "def downSampleLowPass(motionData,factor):\n",
    "    accX = signal.decimate(motionData[:,:,0],factor)\n",
    "    accY = signal.decimate(motionData[:,:,1],factor)\n",
    "    accZ = signal.decimate(motionData[:,:,2],factor)\n",
    "    gyroX = signal.decimate(motionData[:,:,3],factor)\n",
    "    gyroY = signal.decimate(motionData[:,:,4],factor)\n",
    "    gyroZ = signal.decimate(motionData[:,:,5],factor)\n",
    "    return np.dstack((accX,accY,accZ,gyroX,gyroY,gyroZ))"
   ]
  },
  {
   "cell_type": "code",
   "execution_count": 103,
   "id": "b610c2a6-0382-4dad-b346-1e91b9b5a924",
   "metadata": {
    "ExecuteTime": {
     "end_time": "2023-11-19T21:56:24.818978Z",
     "start_time": "2023-11-19T21:56:05.373564Z"
    },
    "collapsed": false,
    "jupyter": {
     "outputs_hidden": false
    },
    "scrolled": true
   },
   "outputs": [
    {
     "name": "stderr",
     "output_type": "stream",
     "text": [
      "/var/folders/kk/j482bf2d0tv8vcn37vsk87cm0000gn/T/ipykernel_41586/2256156974.py:24: UserWarning: Boolean Series key will be reindexed to match DataFrame index.\n",
      "  smallest_data = device_data_gyro[(device_data_acc['gt'] == class_name) & (device_data_gyro['User'] == user)]\n",
      "/Users/westontuescher/Documents/University/MsciDissSem1/SensorPatches/venv/lib/python3.10/site-packages/numpy/core/fromnumeric.py:59: FutureWarning: 'DataFrame.swapaxes' is deprecated and will be removed in a future version. Please use 'DataFrame.transpose' instead.\n",
      "  return bound(*args, **kwds)\n"
     ]
    },
    {
     "name": "stdout",
     "output_type": "stream",
     "text": [
      "1 the len after run\n",
      "2 the len after run\n"
     ]
    },
    {
     "name": "stderr",
     "output_type": "stream",
     "text": [
      "/var/folders/kk/j482bf2d0tv8vcn37vsk87cm0000gn/T/ipykernel_41586/2256156974.py:24: UserWarning: Boolean Series key will be reindexed to match DataFrame index.\n",
      "  smallest_data = device_data_gyro[(device_data_acc['gt'] == class_name) & (device_data_gyro['User'] == user)]\n",
      "/Users/westontuescher/Documents/University/MsciDissSem1/SensorPatches/venv/lib/python3.10/site-packages/numpy/core/fromnumeric.py:59: FutureWarning: 'DataFrame.swapaxes' is deprecated and will be removed in a future version. Please use 'DataFrame.transpose' instead.\n",
      "  return bound(*args, **kwds)\n"
     ]
    },
    {
     "name": "stdout",
     "output_type": "stream",
     "text": [
      "3 the len after run\n",
      "4 the len after run\n"
     ]
    },
    {
     "name": "stderr",
     "output_type": "stream",
     "text": [
      "/var/folders/kk/j482bf2d0tv8vcn37vsk87cm0000gn/T/ipykernel_41586/2256156974.py:24: UserWarning: Boolean Series key will be reindexed to match DataFrame index.\n",
      "  smallest_data = device_data_gyro[(device_data_acc['gt'] == class_name) & (device_data_gyro['User'] == user)]\n",
      "/Users/westontuescher/Documents/University/MsciDissSem1/SensorPatches/venv/lib/python3.10/site-packages/numpy/core/fromnumeric.py:59: FutureWarning: 'DataFrame.swapaxes' is deprecated and will be removed in a future version. Please use 'DataFrame.transpose' instead.\n",
      "  return bound(*args, **kwds)\n"
     ]
    },
    {
     "name": "stdout",
     "output_type": "stream",
     "text": [
      "5 the len after run\n",
      "6 the len after run\n"
     ]
    },
    {
     "name": "stderr",
     "output_type": "stream",
     "text": [
      "/var/folders/kk/j482bf2d0tv8vcn37vsk87cm0000gn/T/ipykernel_41586/2256156974.py:24: UserWarning: Boolean Series key will be reindexed to match DataFrame index.\n",
      "  smallest_data = device_data_gyro[(device_data_acc['gt'] == class_name) & (device_data_gyro['User'] == user)]\n",
      "/Users/westontuescher/Documents/University/MsciDissSem1/SensorPatches/venv/lib/python3.10/site-packages/numpy/core/fromnumeric.py:59: FutureWarning: 'DataFrame.swapaxes' is deprecated and will be removed in a future version. Please use 'DataFrame.transpose' instead.\n",
      "  return bound(*args, **kwds)\n"
     ]
    },
    {
     "name": "stdout",
     "output_type": "stream",
     "text": [
      "7 the len after run\n",
      "8 the len after run\n",
      "9 the len after run\n",
      "10 the len after run\n",
      "11 the len after run\n",
      "12 the len after run\n",
      "13 the len after run\n",
      "14 the len after run\n",
      "15 the len after run\n",
      "16 the len after run\n"
     ]
    },
    {
     "name": "stderr",
     "output_type": "stream",
     "text": [
      "/var/folders/kk/j482bf2d0tv8vcn37vsk87cm0000gn/T/ipykernel_41586/2256156974.py:24: UserWarning: Boolean Series key will be reindexed to match DataFrame index.\n",
      "  smallest_data = device_data_gyro[(device_data_acc['gt'] == class_name) & (device_data_gyro['User'] == user)]\n",
      "/Users/westontuescher/Documents/University/MsciDissSem1/SensorPatches/venv/lib/python3.10/site-packages/numpy/core/fromnumeric.py:59: FutureWarning: 'DataFrame.swapaxes' is deprecated and will be removed in a future version. Please use 'DataFrame.transpose' instead.\n",
      "  return bound(*args, **kwds)\n"
     ]
    },
    {
     "name": "stdout",
     "output_type": "stream",
     "text": [
      "17 the len after run\n",
      "18 the len after run\n",
      "19 the len after run\n",
      "20 the len after run\n",
      "21 the len after run\n",
      "22 the len after run\n",
      "23 the len after run\n",
      "24 the len after run\n",
      "25 the len after run\n",
      "26 the len after run\n"
     ]
    },
    {
     "name": "stderr",
     "output_type": "stream",
     "text": [
      "/var/folders/kk/j482bf2d0tv8vcn37vsk87cm0000gn/T/ipykernel_41586/2256156974.py:24: UserWarning: Boolean Series key will be reindexed to match DataFrame index.\n",
      "  smallest_data = device_data_gyro[(device_data_acc['gt'] == class_name) & (device_data_gyro['User'] == user)]\n",
      "/Users/westontuescher/Documents/University/MsciDissSem1/SensorPatches/venv/lib/python3.10/site-packages/numpy/core/fromnumeric.py:59: FutureWarning: 'DataFrame.swapaxes' is deprecated and will be removed in a future version. Please use 'DataFrame.transpose' instead.\n",
      "  return bound(*args, **kwds)\n"
     ]
    },
    {
     "name": "stdout",
     "output_type": "stream",
     "text": [
      "27 the len after run\n",
      "28 the len after run\n"
     ]
    },
    {
     "name": "stderr",
     "output_type": "stream",
     "text": [
      "/var/folders/kk/j482bf2d0tv8vcn37vsk87cm0000gn/T/ipykernel_41586/2256156974.py:24: UserWarning: Boolean Series key will be reindexed to match DataFrame index.\n",
      "  smallest_data = device_data_gyro[(device_data_acc['gt'] == class_name) & (device_data_gyro['User'] == user)]\n",
      "/Users/westontuescher/Documents/University/MsciDissSem1/SensorPatches/venv/lib/python3.10/site-packages/numpy/core/fromnumeric.py:59: FutureWarning: 'DataFrame.swapaxes' is deprecated and will be removed in a future version. Please use 'DataFrame.transpose' instead.\n",
      "  return bound(*args, **kwds)\n"
     ]
    },
    {
     "name": "stdout",
     "output_type": "stream",
     "text": [
      "1 the len after run\n"
     ]
    },
    {
     "name": "stderr",
     "output_type": "stream",
     "text": [
      "/var/folders/kk/j482bf2d0tv8vcn37vsk87cm0000gn/T/ipykernel_41586/2256156974.py:24: UserWarning: Boolean Series key will be reindexed to match DataFrame index.\n",
      "  smallest_data = device_data_gyro[(device_data_acc['gt'] == class_name) & (device_data_gyro['User'] == user)]\n",
      "/Users/westontuescher/Documents/University/MsciDissSem1/SensorPatches/venv/lib/python3.10/site-packages/numpy/core/fromnumeric.py:59: FutureWarning: 'DataFrame.swapaxes' is deprecated and will be removed in a future version. Please use 'DataFrame.transpose' instead.\n",
      "  return bound(*args, **kwds)\n"
     ]
    },
    {
     "name": "stdout",
     "output_type": "stream",
     "text": [
      "2 the len after run\n"
     ]
    },
    {
     "name": "stderr",
     "output_type": "stream",
     "text": [
      "/var/folders/kk/j482bf2d0tv8vcn37vsk87cm0000gn/T/ipykernel_41586/2256156974.py:24: UserWarning: Boolean Series key will be reindexed to match DataFrame index.\n",
      "  smallest_data = device_data_gyro[(device_data_acc['gt'] == class_name) & (device_data_gyro['User'] == user)]\n",
      "/Users/westontuescher/Documents/University/MsciDissSem1/SensorPatches/venv/lib/python3.10/site-packages/numpy/core/fromnumeric.py:59: FutureWarning: 'DataFrame.swapaxes' is deprecated and will be removed in a future version. Please use 'DataFrame.transpose' instead.\n",
      "  return bound(*args, **kwds)\n"
     ]
    },
    {
     "name": "stdout",
     "output_type": "stream",
     "text": [
      "3 the len after run\n",
      "4 the len after run\n"
     ]
    },
    {
     "name": "stderr",
     "output_type": "stream",
     "text": [
      "/var/folders/kk/j482bf2d0tv8vcn37vsk87cm0000gn/T/ipykernel_41586/2256156974.py:24: UserWarning: Boolean Series key will be reindexed to match DataFrame index.\n",
      "  smallest_data = device_data_gyro[(device_data_acc['gt'] == class_name) & (device_data_gyro['User'] == user)]\n",
      "/Users/westontuescher/Documents/University/MsciDissSem1/SensorPatches/venv/lib/python3.10/site-packages/numpy/core/fromnumeric.py:59: FutureWarning: 'DataFrame.swapaxes' is deprecated and will be removed in a future version. Please use 'DataFrame.transpose' instead.\n",
      "  return bound(*args, **kwds)\n"
     ]
    },
    {
     "name": "stdout",
     "output_type": "stream",
     "text": [
      "5 the len after run\n",
      "6 the len after run\n",
      "7 the len after run\n",
      "8 the len after run\n",
      "9 the len after run\n",
      "10 the len after run\n",
      "11 the len after run\n",
      "12 the len after run\n",
      "13 the len after run\n",
      "14 the len after run\n",
      "15 the len after run\n",
      "16 the len after run\n"
     ]
    },
    {
     "name": "stderr",
     "output_type": "stream",
     "text": [
      "/var/folders/kk/j482bf2d0tv8vcn37vsk87cm0000gn/T/ipykernel_41586/2256156974.py:24: UserWarning: Boolean Series key will be reindexed to match DataFrame index.\n",
      "  smallest_data = device_data_gyro[(device_data_acc['gt'] == class_name) & (device_data_gyro['User'] == user)]\n",
      "/Users/westontuescher/Documents/University/MsciDissSem1/SensorPatches/venv/lib/python3.10/site-packages/numpy/core/fromnumeric.py:59: FutureWarning: 'DataFrame.swapaxes' is deprecated and will be removed in a future version. Please use 'DataFrame.transpose' instead.\n",
      "  return bound(*args, **kwds)\n"
     ]
    },
    {
     "name": "stdout",
     "output_type": "stream",
     "text": [
      "17 the len after run\n",
      "18 the len after run\n",
      "19 the len after run\n",
      "20 the len after run\n",
      "21 the len after run\n",
      "22 the len after run\n",
      "23 the len after run\n",
      "24 the len after run\n",
      "25 the len after run\n",
      "26 the len after run\n"
     ]
    },
    {
     "name": "stderr",
     "output_type": "stream",
     "text": [
      "/var/folders/kk/j482bf2d0tv8vcn37vsk87cm0000gn/T/ipykernel_41586/2256156974.py:24: UserWarning: Boolean Series key will be reindexed to match DataFrame index.\n",
      "  smallest_data = device_data_gyro[(device_data_acc['gt'] == class_name) & (device_data_gyro['User'] == user)]\n",
      "/Users/westontuescher/Documents/University/MsciDissSem1/SensorPatches/venv/lib/python3.10/site-packages/numpy/core/fromnumeric.py:59: FutureWarning: 'DataFrame.swapaxes' is deprecated and will be removed in a future version. Please use 'DataFrame.transpose' instead.\n",
      "  return bound(*args, **kwds)\n"
     ]
    },
    {
     "name": "stdout",
     "output_type": "stream",
     "text": [
      "27 the len after run\n",
      "28 the len after run\n"
     ]
    },
    {
     "name": "stderr",
     "output_type": "stream",
     "text": [
      "/var/folders/kk/j482bf2d0tv8vcn37vsk87cm0000gn/T/ipykernel_41586/2256156974.py:24: UserWarning: Boolean Series key will be reindexed to match DataFrame index.\n",
      "  smallest_data = device_data_gyro[(device_data_acc['gt'] == class_name) & (device_data_gyro['User'] == user)]\n",
      "/Users/westontuescher/Documents/University/MsciDissSem1/SensorPatches/venv/lib/python3.10/site-packages/numpy/core/fromnumeric.py:59: FutureWarning: 'DataFrame.swapaxes' is deprecated and will be removed in a future version. Please use 'DataFrame.transpose' instead.\n",
      "  return bound(*args, **kwds)\n"
     ]
    },
    {
     "name": "stdout",
     "output_type": "stream",
     "text": [
      "1 the len after run\n"
     ]
    },
    {
     "name": "stderr",
     "output_type": "stream",
     "text": [
      "/var/folders/kk/j482bf2d0tv8vcn37vsk87cm0000gn/T/ipykernel_41586/2256156974.py:24: UserWarning: Boolean Series key will be reindexed to match DataFrame index.\n",
      "  smallest_data = device_data_gyro[(device_data_acc['gt'] == class_name) & (device_data_gyro['User'] == user)]\n",
      "/Users/westontuescher/Documents/University/MsciDissSem1/SensorPatches/venv/lib/python3.10/site-packages/numpy/core/fromnumeric.py:59: FutureWarning: 'DataFrame.swapaxes' is deprecated and will be removed in a future version. Please use 'DataFrame.transpose' instead.\n",
      "  return bound(*args, **kwds)\n"
     ]
    },
    {
     "name": "stdout",
     "output_type": "stream",
     "text": [
      "2 the len after run\n"
     ]
    },
    {
     "name": "stderr",
     "output_type": "stream",
     "text": [
      "/var/folders/kk/j482bf2d0tv8vcn37vsk87cm0000gn/T/ipykernel_41586/2256156974.py:24: UserWarning: Boolean Series key will be reindexed to match DataFrame index.\n",
      "  smallest_data = device_data_gyro[(device_data_acc['gt'] == class_name) & (device_data_gyro['User'] == user)]\n",
      "/Users/westontuescher/Documents/University/MsciDissSem1/SensorPatches/venv/lib/python3.10/site-packages/numpy/core/fromnumeric.py:59: FutureWarning: 'DataFrame.swapaxes' is deprecated and will be removed in a future version. Please use 'DataFrame.transpose' instead.\n",
      "  return bound(*args, **kwds)\n"
     ]
    },
    {
     "name": "stdout",
     "output_type": "stream",
     "text": [
      "3 the len after run\n"
     ]
    },
    {
     "name": "stderr",
     "output_type": "stream",
     "text": [
      "/var/folders/kk/j482bf2d0tv8vcn37vsk87cm0000gn/T/ipykernel_41586/2256156974.py:24: UserWarning: Boolean Series key will be reindexed to match DataFrame index.\n",
      "  smallest_data = device_data_gyro[(device_data_acc['gt'] == class_name) & (device_data_gyro['User'] == user)]\n",
      "/Users/westontuescher/Documents/University/MsciDissSem1/SensorPatches/venv/lib/python3.10/site-packages/numpy/core/fromnumeric.py:59: FutureWarning: 'DataFrame.swapaxes' is deprecated and will be removed in a future version. Please use 'DataFrame.transpose' instead.\n",
      "  return bound(*args, **kwds)\n"
     ]
    },
    {
     "name": "stdout",
     "output_type": "stream",
     "text": [
      "4 the len after run\n",
      "5 the len after run\n",
      "6 the len after run\n",
      "7 the len after run\n",
      "8 the len after run\n"
     ]
    },
    {
     "name": "stderr",
     "output_type": "stream",
     "text": [
      "/var/folders/kk/j482bf2d0tv8vcn37vsk87cm0000gn/T/ipykernel_41586/2256156974.py:24: UserWarning: Boolean Series key will be reindexed to match DataFrame index.\n",
      "  smallest_data = device_data_gyro[(device_data_acc['gt'] == class_name) & (device_data_gyro['User'] == user)]\n",
      "/Users/westontuescher/Documents/University/MsciDissSem1/SensorPatches/venv/lib/python3.10/site-packages/numpy/core/fromnumeric.py:59: FutureWarning: 'DataFrame.swapaxes' is deprecated and will be removed in a future version. Please use 'DataFrame.transpose' instead.\n",
      "  return bound(*args, **kwds)\n"
     ]
    },
    {
     "name": "stdout",
     "output_type": "stream",
     "text": [
      "9 the len after run\n",
      "10 the len after run\n",
      "11 the len after run\n",
      "12 the len after run\n",
      "13 the len after run\n",
      "14 the len after run\n",
      "15 the len after run\n"
     ]
    },
    {
     "name": "stderr",
     "output_type": "stream",
     "text": [
      "/var/folders/kk/j482bf2d0tv8vcn37vsk87cm0000gn/T/ipykernel_41586/2256156974.py:24: UserWarning: Boolean Series key will be reindexed to match DataFrame index.\n",
      "  smallest_data = device_data_gyro[(device_data_acc['gt'] == class_name) & (device_data_gyro['User'] == user)]\n",
      "/Users/westontuescher/Documents/University/MsciDissSem1/SensorPatches/venv/lib/python3.10/site-packages/numpy/core/fromnumeric.py:59: FutureWarning: 'DataFrame.swapaxes' is deprecated and will be removed in a future version. Please use 'DataFrame.transpose' instead.\n",
      "  return bound(*args, **kwds)\n"
     ]
    },
    {
     "name": "stdout",
     "output_type": "stream",
     "text": [
      "16 the len after run\n",
      "17 the len after run\n"
     ]
    },
    {
     "name": "stderr",
     "output_type": "stream",
     "text": [
      "/var/folders/kk/j482bf2d0tv8vcn37vsk87cm0000gn/T/ipykernel_41586/2256156974.py:24: UserWarning: Boolean Series key will be reindexed to match DataFrame index.\n",
      "  smallest_data = device_data_gyro[(device_data_acc['gt'] == class_name) & (device_data_gyro['User'] == user)]\n",
      "/Users/westontuescher/Documents/University/MsciDissSem1/SensorPatches/venv/lib/python3.10/site-packages/numpy/core/fromnumeric.py:59: FutureWarning: 'DataFrame.swapaxes' is deprecated and will be removed in a future version. Please use 'DataFrame.transpose' instead.\n",
      "  return bound(*args, **kwds)\n"
     ]
    },
    {
     "name": "stdout",
     "output_type": "stream",
     "text": [
      "1 the len after run\n"
     ]
    },
    {
     "name": "stderr",
     "output_type": "stream",
     "text": [
      "/var/folders/kk/j482bf2d0tv8vcn37vsk87cm0000gn/T/ipykernel_41586/2256156974.py:24: UserWarning: Boolean Series key will be reindexed to match DataFrame index.\n",
      "  smallest_data = device_data_gyro[(device_data_acc['gt'] == class_name) & (device_data_gyro['User'] == user)]\n",
      "/Users/westontuescher/Documents/University/MsciDissSem1/SensorPatches/venv/lib/python3.10/site-packages/numpy/core/fromnumeric.py:59: FutureWarning: 'DataFrame.swapaxes' is deprecated and will be removed in a future version. Please use 'DataFrame.transpose' instead.\n",
      "  return bound(*args, **kwds)\n"
     ]
    },
    {
     "name": "stdout",
     "output_type": "stream",
     "text": [
      "2 the len after run\n"
     ]
    },
    {
     "name": "stderr",
     "output_type": "stream",
     "text": [
      "/var/folders/kk/j482bf2d0tv8vcn37vsk87cm0000gn/T/ipykernel_41586/2256156974.py:24: UserWarning: Boolean Series key will be reindexed to match DataFrame index.\n",
      "  smallest_data = device_data_gyro[(device_data_acc['gt'] == class_name) & (device_data_gyro['User'] == user)]\n",
      "/Users/westontuescher/Documents/University/MsciDissSem1/SensorPatches/venv/lib/python3.10/site-packages/numpy/core/fromnumeric.py:59: FutureWarning: 'DataFrame.swapaxes' is deprecated and will be removed in a future version. Please use 'DataFrame.transpose' instead.\n",
      "  return bound(*args, **kwds)\n"
     ]
    },
    {
     "name": "stdout",
     "output_type": "stream",
     "text": [
      "3 the len after run\n"
     ]
    },
    {
     "name": "stderr",
     "output_type": "stream",
     "text": [
      "/var/folders/kk/j482bf2d0tv8vcn37vsk87cm0000gn/T/ipykernel_41586/2256156974.py:24: UserWarning: Boolean Series key will be reindexed to match DataFrame index.\n",
      "  smallest_data = device_data_gyro[(device_data_acc['gt'] == class_name) & (device_data_gyro['User'] == user)]\n",
      "/Users/westontuescher/Documents/University/MsciDissSem1/SensorPatches/venv/lib/python3.10/site-packages/numpy/core/fromnumeric.py:59: FutureWarning: 'DataFrame.swapaxes' is deprecated and will be removed in a future version. Please use 'DataFrame.transpose' instead.\n",
      "  return bound(*args, **kwds)\n"
     ]
    },
    {
     "name": "stdout",
     "output_type": "stream",
     "text": [
      "4 the len after run\n",
      "5 the len after run\n",
      "6 the len after run\n",
      "7 the len after run\n",
      "8 the len after run\n",
      "9 the len after run\n"
     ]
    },
    {
     "name": "stderr",
     "output_type": "stream",
     "text": [
      "/var/folders/kk/j482bf2d0tv8vcn37vsk87cm0000gn/T/ipykernel_41586/2256156974.py:24: UserWarning: Boolean Series key will be reindexed to match DataFrame index.\n",
      "  smallest_data = device_data_gyro[(device_data_acc['gt'] == class_name) & (device_data_gyro['User'] == user)]\n",
      "/Users/westontuescher/Documents/University/MsciDissSem1/SensorPatches/venv/lib/python3.10/site-packages/numpy/core/fromnumeric.py:59: FutureWarning: 'DataFrame.swapaxes' is deprecated and will be removed in a future version. Please use 'DataFrame.transpose' instead.\n",
      "  return bound(*args, **kwds)\n"
     ]
    },
    {
     "name": "stdout",
     "output_type": "stream",
     "text": [
      "10 the len after run\n",
      "11 the len after run\n",
      "12 the len after run\n",
      "13 the len after run\n",
      "14 the len after run\n",
      "15 the len after run\n"
     ]
    },
    {
     "name": "stderr",
     "output_type": "stream",
     "text": [
      "/var/folders/kk/j482bf2d0tv8vcn37vsk87cm0000gn/T/ipykernel_41586/2256156974.py:24: UserWarning: Boolean Series key will be reindexed to match DataFrame index.\n",
      "  smallest_data = device_data_gyro[(device_data_acc['gt'] == class_name) & (device_data_gyro['User'] == user)]\n",
      "/Users/westontuescher/Documents/University/MsciDissSem1/SensorPatches/venv/lib/python3.10/site-packages/numpy/core/fromnumeric.py:59: FutureWarning: 'DataFrame.swapaxes' is deprecated and will be removed in a future version. Please use 'DataFrame.transpose' instead.\n",
      "  return bound(*args, **kwds)\n"
     ]
    },
    {
     "name": "stdout",
     "output_type": "stream",
     "text": [
      "16 the len after run\n"
     ]
    },
    {
     "name": "stderr",
     "output_type": "stream",
     "text": [
      "/var/folders/kk/j482bf2d0tv8vcn37vsk87cm0000gn/T/ipykernel_41586/2256156974.py:24: UserWarning: Boolean Series key will be reindexed to match DataFrame index.\n",
      "  smallest_data = device_data_gyro[(device_data_acc['gt'] == class_name) & (device_data_gyro['User'] == user)]\n",
      "/Users/westontuescher/Documents/University/MsciDissSem1/SensorPatches/venv/lib/python3.10/site-packages/numpy/core/fromnumeric.py:59: FutureWarning: 'DataFrame.swapaxes' is deprecated and will be removed in a future version. Please use 'DataFrame.transpose' instead.\n",
      "  return bound(*args, **kwds)\n"
     ]
    },
    {
     "name": "stdout",
     "output_type": "stream",
     "text": [
      "1 the len after run\n"
     ]
    },
    {
     "name": "stderr",
     "output_type": "stream",
     "text": [
      "/var/folders/kk/j482bf2d0tv8vcn37vsk87cm0000gn/T/ipykernel_41586/2256156974.py:24: UserWarning: Boolean Series key will be reindexed to match DataFrame index.\n",
      "  smallest_data = device_data_gyro[(device_data_acc['gt'] == class_name) & (device_data_gyro['User'] == user)]\n",
      "/Users/westontuescher/Documents/University/MsciDissSem1/SensorPatches/venv/lib/python3.10/site-packages/numpy/core/fromnumeric.py:59: FutureWarning: 'DataFrame.swapaxes' is deprecated and will be removed in a future version. Please use 'DataFrame.transpose' instead.\n",
      "  return bound(*args, **kwds)\n",
      "/var/folders/kk/j482bf2d0tv8vcn37vsk87cm0000gn/T/ipykernel_41586/2256156974.py:24: UserWarning: Boolean Series key will be reindexed to match DataFrame index.\n",
      "  smallest_data = device_data_gyro[(device_data_acc['gt'] == class_name) & (device_data_gyro['User'] == user)]\n",
      "/Users/westontuescher/Documents/University/MsciDissSem1/SensorPatches/venv/lib/python3.10/site-packages/numpy/core/fromnumeric.py:59: FutureWarning: 'DataFrame.swapaxes' is deprecated and will be removed in a future version. Please use 'DataFrame.transpose' instead.\n",
      "  return bound(*args, **kwds)\n"
     ]
    },
    {
     "name": "stdout",
     "output_type": "stream",
     "text": [
      "2 the len after run\n"
     ]
    },
    {
     "name": "stderr",
     "output_type": "stream",
     "text": [
      "/var/folders/kk/j482bf2d0tv8vcn37vsk87cm0000gn/T/ipykernel_41586/2256156974.py:24: UserWarning: Boolean Series key will be reindexed to match DataFrame index.\n",
      "  smallest_data = device_data_gyro[(device_data_acc['gt'] == class_name) & (device_data_gyro['User'] == user)]\n",
      "/Users/westontuescher/Documents/University/MsciDissSem1/SensorPatches/venv/lib/python3.10/site-packages/numpy/core/fromnumeric.py:59: FutureWarning: 'DataFrame.swapaxes' is deprecated and will be removed in a future version. Please use 'DataFrame.transpose' instead.\n",
      "  return bound(*args, **kwds)\n"
     ]
    },
    {
     "name": "stdout",
     "output_type": "stream",
     "text": [
      "3 the len after run\n",
      "4 the len after run\n",
      "5 the len after run\n",
      "6 the len after run\n",
      "7 the len after run\n",
      "8 the len after run\n"
     ]
    },
    {
     "name": "stderr",
     "output_type": "stream",
     "text": [
      "/var/folders/kk/j482bf2d0tv8vcn37vsk87cm0000gn/T/ipykernel_41586/2256156974.py:24: UserWarning: Boolean Series key will be reindexed to match DataFrame index.\n",
      "  smallest_data = device_data_gyro[(device_data_acc['gt'] == class_name) & (device_data_gyro['User'] == user)]\n",
      "/Users/westontuescher/Documents/University/MsciDissSem1/SensorPatches/venv/lib/python3.10/site-packages/numpy/core/fromnumeric.py:59: FutureWarning: 'DataFrame.swapaxes' is deprecated and will be removed in a future version. Please use 'DataFrame.transpose' instead.\n",
      "  return bound(*args, **kwds)\n"
     ]
    },
    {
     "name": "stdout",
     "output_type": "stream",
     "text": [
      "9 the len after run\n",
      "10 the len after run\n",
      "11 the len after run\n",
      "12 the len after run\n",
      "13 the len after run\n",
      "14 the len after run\n"
     ]
    },
    {
     "name": "stderr",
     "output_type": "stream",
     "text": [
      "/var/folders/kk/j482bf2d0tv8vcn37vsk87cm0000gn/T/ipykernel_41586/2256156974.py:24: UserWarning: Boolean Series key will be reindexed to match DataFrame index.\n",
      "  smallest_data = device_data_gyro[(device_data_acc['gt'] == class_name) & (device_data_gyro['User'] == user)]\n",
      "/Users/westontuescher/Documents/University/MsciDissSem1/SensorPatches/venv/lib/python3.10/site-packages/numpy/core/fromnumeric.py:59: FutureWarning: 'DataFrame.swapaxes' is deprecated and will be removed in a future version. Please use 'DataFrame.transpose' instead.\n",
      "  return bound(*args, **kwds)\n"
     ]
    },
    {
     "name": "stdout",
     "output_type": "stream",
     "text": [
      "15 the len after run\n"
     ]
    },
    {
     "name": "stderr",
     "output_type": "stream",
     "text": [
      "/var/folders/kk/j482bf2d0tv8vcn37vsk87cm0000gn/T/ipykernel_41586/2256156974.py:24: UserWarning: Boolean Series key will be reindexed to match DataFrame index.\n",
      "  smallest_data = device_data_gyro[(device_data_acc['gt'] == class_name) & (device_data_gyro['User'] == user)]\n",
      "/Users/westontuescher/Documents/University/MsciDissSem1/SensorPatches/venv/lib/python3.10/site-packages/numpy/core/fromnumeric.py:59: FutureWarning: 'DataFrame.swapaxes' is deprecated and will be removed in a future version. Please use 'DataFrame.transpose' instead.\n",
      "  return bound(*args, **kwds)\n"
     ]
    },
    {
     "ename": "ValueError",
     "evalue": "need at least one array to concatenate",
     "output_type": "error",
     "traceback": [
      "\u001b[0;31m---------------------------------------------------------------------------\u001b[0m",
      "\u001b[0;31mValueError\u001b[0m                                Traceback (most recent call last)",
      "Cell \u001b[0;32mIn[103], line 51\u001b[0m\n\u001b[1;32m     49\u001b[0m     \u001b[38;5;28mprint\u001b[39m(\u001b[38;5;28mlen\u001b[39m(processed_class_data), \u001b[38;5;124m'\u001b[39m\u001b[38;5;124mthe len after run\u001b[39m\u001b[38;5;124m'\u001b[39m)\n\u001b[1;32m     50\u001b[0m     \u001b[38;5;66;03m# print(processed_class_label[0].shape, processed_class_label)\u001b[39;00m\n\u001b[0;32m---> 51\u001b[0m temp_processed \u001b[38;5;241m=\u001b[39m \u001b[43mnp\u001b[49m\u001b[38;5;241;43m.\u001b[39;49m\u001b[43mvstack\u001b[49m\u001b[43m(\u001b[49m\u001b[43m(\u001b[49m\u001b[43mprocessed_class_data\u001b[49m\u001b[43m)\u001b[49m\u001b[43m)\u001b[49m\n\u001b[1;32m     52\u001b[0m \u001b[38;5;28;01mif\u001b[39;00m client_dev_index \u001b[38;5;241m<\u001b[39m \u001b[38;5;241m5\u001b[39m:\n\u001b[1;32m     53\u001b[0m     temp_processed \u001b[38;5;241m=\u001b[39m downSampleLowPass(np\u001b[38;5;241m.\u001b[39mfloat32(temp_processed),\n\u001b[1;32m     54\u001b[0m                                           downSamplingRate[client_dev_index])\n",
      "File \u001b[0;32m~/Documents/University/MsciDissSem1/SensorPatches/venv/lib/python3.10/site-packages/numpy/core/shape_base.py:289\u001b[0m, in \u001b[0;36mvstack\u001b[0;34m(tup, dtype, casting)\u001b[0m\n\u001b[1;32m    287\u001b[0m \u001b[38;5;28;01mif\u001b[39;00m \u001b[38;5;129;01mnot\u001b[39;00m \u001b[38;5;28misinstance\u001b[39m(arrs, \u001b[38;5;28mlist\u001b[39m):\n\u001b[1;32m    288\u001b[0m     arrs \u001b[38;5;241m=\u001b[39m [arrs]\n\u001b[0;32m--> 289\u001b[0m \u001b[38;5;28;01mreturn\u001b[39;00m \u001b[43m_nx\u001b[49m\u001b[38;5;241;43m.\u001b[39;49m\u001b[43mconcatenate\u001b[49m\u001b[43m(\u001b[49m\u001b[43marrs\u001b[49m\u001b[43m,\u001b[49m\u001b[43m \u001b[49m\u001b[38;5;241;43m0\u001b[39;49m\u001b[43m,\u001b[49m\u001b[43m \u001b[49m\u001b[43mdtype\u001b[49m\u001b[38;5;241;43m=\u001b[39;49m\u001b[43mdtype\u001b[49m\u001b[43m,\u001b[49m\u001b[43m \u001b[49m\u001b[43mcasting\u001b[49m\u001b[38;5;241;43m=\u001b[39;49m\u001b[43mcasting\u001b[49m\u001b[43m)\u001b[49m\n",
      "\u001b[0;31mValueError\u001b[0m: need at least one array to concatenate"
     ]
    }
   ],
   "source": [
    "index_offset = 0\n",
    "all_processed_data = {}\n",
    "all_processed_label = {}\n",
    "device_index = {}\n",
    "device_indicies = {new_list: [] for new_list in range(len(deviceCounts))}\n",
    "# now you want to go through all devices\n",
    "for client_dev_index, device_name in enumerate(deviceCounts):\n",
    "    device_data_acc = accel[accel['Model'] == device_name]\n",
    "    device_users = device_data_acc['User'].unique()\n",
    "    device_data_gyro = gyro[gyro['Model'] == device_name]\n",
    "    device_users_gyro = device_data_gyro['User'].unique()\n",
    "    \n",
    "    # now you want to go through all users\n",
    "    # if there is an empty dataframe then skip\n",
    "    if device_data_acc.empty or device_data_gyro.empty:\n",
    "        continue\n",
    "\n",
    "    for user_index, user in enumerate(device_users_gyro):\n",
    "        processed_class_data = []\n",
    "        processed_class_label = []\n",
    "        # now you want to go through all classes\n",
    "        for class_index, class_name in enumerate(classCounts):\n",
    "            if device_data_acc.size <= device_data_gyro.size: # if more entries for gyro then use acc (choose the smallest class data set)\n",
    "                smallest_data = device_data_gyro[(device_data_acc['gt'] == class_name) & (device_data_gyro['User'] == user)]\n",
    "                filtered_gyro_data_ind = smallest_data.index\n",
    "            else:\n",
    "                smallest_data = device_data_gyro[(device_data_gyro['gt'] == class_name) & (device_data_gyro['User'] == user)]\n",
    "                filtered_gyro_data_ind = smallest_data.index\n",
    "            # print(smallest_class_data) \n",
    "            # print(smallest_data)\n",
    "            window_frame = deviceWindowFrame[int(client_dev_index/2)]\n",
    "            \n",
    "            split_res = np.split(smallest_data, np.where(np.diff(filtered_gyro_data_ind.to_numpy()) != 1)[0]+1)\n",
    "            split_res = [newArr for newArr in split_res if len(newArr) >= window_frame]\n",
    "            indicies = (list(map(lambda x: x.index, split_res)))\n",
    "            # now that I have the indicies I can segment each dasta\n",
    "            for segmented_class_range in indicies:\n",
    "                acc_loc = accel.iloc[segmented_class_range]\n",
    "                acc_selected = acc_loc[['x', 'y', 'z']].to_numpy()\n",
    "                gyro_loc = gyro.iloc[segmented_class_range]\n",
    "                gyro_selected = gyro_loc[['x','y','z']].to_numpy()\n",
    "                \n",
    "                combined_data = np.dstack((segment_data(acc_selected,deviceWindowFrame[client_dev_index],\n",
    "                                                          deviceWindowFrame[client_dev_index] / 2), segment_data(gyro_selected,deviceWindowFrame[client_dev_index],\n",
    "                                                          deviceWindowFrame[client_dev_index] / 2)))\n",
    "                \n",
    "                processed_class_data.append(combined_data)\n",
    "                processed_class_label.append(np.full(combined_data.shape[0],class_index, dtype=int))\n",
    "                print(len(processed_class_data), 'the len after run')\n",
    "                # print(processed_class_label[0].shape, processed_class_label)\n",
    "            temp_processed = np.vstack((processed_class_data)) #TODO for some reason sometimes this is empty\n",
    "            if client_dev_index < 5:\n",
    "                temp_processed = downSampleLowPass(np.float32(temp_processed),\n",
    "                                                      downSamplingRate[client_dev_index])\n",
    "            data_index = (len(userCounts) * client_dev_index) + user_index - index_offset\n",
    "            all_processed_data[data_index] = temp_processed\n",
    "            all_processed_label[data_index] = np.hstack(processed_class_label)\n",
    "            device_index[data_index] = np.full(all_processed_label[data_index].shape[0],client_dev_index)\n",
    "            device_indicies[client_dev_index].append(data_index)\n",
    "            # print(processed_class_data)\n",
    "print(all_processed_data)"
   ]
  },
  {
   "cell_type": "code",
   "execution_count": 17,
   "id": "ea0b4ea5a9491d3b",
   "metadata": {
    "collapsed": false,
    "jupyter": {
     "outputs_hidden": false
    }
   },
   "outputs": [
    {
     "data": {
      "text/plain": [
       "[array([0.09264771, 0.46249041, 0.04414198, 0.52606531, 0.91652216]),\n",
       " array([0.73520947, 0.15700932, 0.27941692, 0.68867337, 0.76332096]),\n",
       " array([0.03125295, 0.62388704, 0.45205056, 0.34848984, 0.71127592]),\n",
       " array([0.63339581, 0.76138341, 0.8090039 , 0.96914848, 0.87286084]),\n",
       " array([0.63722938, 0.55806962, 0.43338683, 0.9384114 , 0.68991807]),\n",
       " array([0.70861456, 0.47382328, 0.63525026, 0.68630858, 0.71847619]),\n",
       " array([0.11976397, 0.70417981, 0.55187542, 0.23168978, 0.43730496]),\n",
       " array([0.45226186, 0.49092562, 0.40426149, 0.93492909, 0.01729137]),\n",
       " array([0.07254174, 0.95806539, 0.99185708, 0.24826697, 0.68746604]),\n",
       " array([0.81921526, 0.8272639 , 0.17805295, 0.83575367, 0.79656401])]"
      ]
     },
     "execution_count": 17,
     "metadata": {},
     "output_type": "execute_result"
    }
   ],
   "source": []
  },
  {
   "cell_type": "code",
   "execution_count": null,
   "id": "ddd3d686-bef8-450e-964f-0c28a09f574d",
   "metadata": {},
   "outputs": [],
   "source": []
  }
 ],
 "metadata": {
  "kernelspec": {
   "display_name": "Python 3 (ipykernel)",
   "language": "python",
   "name": "python3"
  },
  "language_info": {
   "codemirror_mode": {
    "name": "ipython",
    "version": 3
   },
   "file_extension": ".py",
   "mimetype": "text/x-python",
   "name": "python",
   "nbconvert_exporter": "python",
   "pygments_lexer": "ipython3",
   "version": "3.10.5"
  }
 },
 "nbformat": 4,
 "nbformat_minor": 5
}
