{
 "cells": [
  {
   "cell_type": "code",
   "execution_count": 2,
   "id": "initial_id",
   "metadata": {
    "ExecuteTime": {
     "end_time": "2023-11-20T13:06:05.586084Z",
     "start_time": "2023-11-20T13:06:04.060766Z"
    }
   },
   "outputs": [],
   "source": [
    "import pandas as pd\n",
    "import numpy as np\n",
    "from scipy import signal\n",
    "import hickle as hkl\n",
    "import os"
   ]
  },
  {
   "cell_type": "code",
   "execution_count": 3,
   "id": "670e025ffd11a060",
   "metadata": {
    "collapsed": false,
    "ExecuteTime": {
     "end_time": "2023-11-20T13:06:05.589664Z",
     "start_time": "2023-11-20T13:06:05.587507Z"
    }
   },
   "outputs": [],
   "source": [
    "loadList = ['Phones_accelerometer.csv','Phones_gyroscope.csv','Watch_accelerometer.csv','Watch_gyroscope.csv']\n",
    "classCounts = ['sit', 'stand', 'walk', 'stairsup', 'stairsdown', 'bike']\n",
    "deviceCounts = ['nexus4', 'lgwatch','s3', 's3mini','gear','samsungold']\n",
    "deviceSamplingRate = [200,200,150,100,100,50]\n",
    "deviceWindowFrame = [512,512,384,256,256,128]\n",
    "downSamplingRate = [4,4,3,2,2,1]\n",
    "subDeviceCounts = ['nexus4_1', 'nexus4_2', 'lgwatch_1', 'lgwatch_2', 's3_1', 's3_2', 's3mini_1', 's3mini_2','gear_1', 'gear_2','samsungold_1', 'samsungold_2']\n",
    "userCounts = ['a', 'b', 'c', 'd', 'e', 'f', 'g', 'h', 'i']"
   ]
  },
  {
   "cell_type": "code",
   "execution_count": 4,
   "id": "68d700842e6c6ca1",
   "metadata": {
    "collapsed": false,
    "ExecuteTime": {
     "end_time": "2023-11-20T13:06:25.100901Z",
     "start_time": "2023-11-20T13:06:05.590902Z"
    }
   },
   "outputs": [
    {
     "data": {
      "text/plain": "          x         y         z User   Model    Device     gt\n0 -5.958191  0.688065  8.135345    a  nexus4  nexus4_1  stand\n1 -5.952240  0.670212  8.136536    a  nexus4  nexus4_1  stand\n2 -5.995087  0.653549  8.204376    a  nexus4  nexus4_1  stand\n3 -5.942718  0.676163  8.128204    a  nexus4  nexus4_1  stand\n4 -5.991516  0.641647  8.135345    a  nexus4  nexus4_1  stand",
      "text/html": "<div>\n<style scoped>\n    .dataframe tbody tr th:only-of-type {\n        vertical-align: middle;\n    }\n\n    .dataframe tbody tr th {\n        vertical-align: top;\n    }\n\n    .dataframe thead th {\n        text-align: right;\n    }\n</style>\n<table border=\"1\" class=\"dataframe\">\n  <thead>\n    <tr style=\"text-align: right;\">\n      <th></th>\n      <th>x</th>\n      <th>y</th>\n      <th>z</th>\n      <th>User</th>\n      <th>Model</th>\n      <th>Device</th>\n      <th>gt</th>\n    </tr>\n  </thead>\n  <tbody>\n    <tr>\n      <th>0</th>\n      <td>-5.958191</td>\n      <td>0.688065</td>\n      <td>8.135345</td>\n      <td>a</td>\n      <td>nexus4</td>\n      <td>nexus4_1</td>\n      <td>stand</td>\n    </tr>\n    <tr>\n      <th>1</th>\n      <td>-5.952240</td>\n      <td>0.670212</td>\n      <td>8.136536</td>\n      <td>a</td>\n      <td>nexus4</td>\n      <td>nexus4_1</td>\n      <td>stand</td>\n    </tr>\n    <tr>\n      <th>2</th>\n      <td>-5.995087</td>\n      <td>0.653549</td>\n      <td>8.204376</td>\n      <td>a</td>\n      <td>nexus4</td>\n      <td>nexus4_1</td>\n      <td>stand</td>\n    </tr>\n    <tr>\n      <th>3</th>\n      <td>-5.942718</td>\n      <td>0.676163</td>\n      <td>8.128204</td>\n      <td>a</td>\n      <td>nexus4</td>\n      <td>nexus4_1</td>\n      <td>stand</td>\n    </tr>\n    <tr>\n      <th>4</th>\n      <td>-5.991516</td>\n      <td>0.641647</td>\n      <td>8.135345</td>\n      <td>a</td>\n      <td>nexus4</td>\n      <td>nexus4_1</td>\n      <td>stand</td>\n    </tr>\n  </tbody>\n</table>\n</div>"
     },
     "execution_count": 4,
     "metadata": {},
     "output_type": "execute_result"
    }
   ],
   "source": [
    "def load_data(filename):\n",
    "    data = pd.read_csv(filename)\n",
    "    data.columns = ['index', 'Arrival_Time', 'Creation_Time', 'x', 'y', 'z', 'User', 'Model', 'Device', 'gt']\n",
    "    data = data.drop(['index', 'Arrival_Time', 'Creation_Time'], axis=1)\n",
    "    return data\n",
    "\n",
    "#load the data\n",
    "#combine the dataframes\n",
    "\n",
    "accel = [load_data('../datasets/extracted/Activity recognition exp/Phones_accelerometer.csv'), load_data('../datasets/extracted/Activity recognition exp/Watch_accelerometer.csv')]\n",
    "\n",
    "gyro = [load_data('../datasets/extracted/Activity recognition exp/Phones_gyroscope.csv'), load_data('../datasets/extracted/Activity recognition exp/Watch_gyroscope.csv')]\n",
    "gyro = pd.concat(gyro)\n",
    "accel = pd.concat(accel)\n",
    "accel.head()"
   ]
  },
  {
   "cell_type": "code",
   "execution_count": 5,
   "id": "f5bbb60c91488b0f",
   "metadata": {
    "collapsed": false,
    "ExecuteTime": {
     "end_time": "2023-11-20T13:06:25.103938Z",
     "start_time": "2023-11-20T13:06:25.101553Z"
    }
   },
   "outputs": [],
   "source": [
    "def segment_data(data, time_step, step:int):\n",
    "    segmentAccData = []\n",
    "    step = int(step)\n",
    "    for i in range(0, data.shape[0] - time_step,step):\n",
    "        segmentAccData.append(data[i:i+time_step,:])\n",
    "    return np.array(segmentAccData)"
   ]
  },
  {
   "cell_type": "code",
   "execution_count": 6,
   "id": "1dfeb58198011f53",
   "metadata": {
    "collapsed": false,
    "scrolled": true,
    "ExecuteTime": {
     "end_time": "2023-11-20T13:06:25.106984Z",
     "start_time": "2023-11-20T13:06:25.105065Z"
    }
   },
   "outputs": [],
   "source": [
    "def downSampleLowPass(motionData,factor):\n",
    "    accX = signal.decimate(motionData[:,:,0],factor)\n",
    "    accY = signal.decimate(motionData[:,:,1],factor)\n",
    "    accZ = signal.decimate(motionData[:,:,2],factor)\n",
    "    gyroX = signal.decimate(motionData[:,:,3],factor)\n",
    "    gyroY = signal.decimate(motionData[:,:,4],factor)\n",
    "    gyroZ = signal.decimate(motionData[:,:,5],factor)\n",
    "    return np.dstack((accX,accY,accZ,gyroX,gyroY,gyroZ))"
   ]
  },
  {
   "cell_type": "code",
   "execution_count": null,
   "id": "b610c2a6-0382-4dad-b346-1e91b9b5a924",
   "metadata": {
    "collapsed": false,
    "scrolled": true
   },
   "outputs": [],
   "source": [
    "index_offset = 0\n",
    "all_processed_data = {}\n",
    "all_processed_label = {}\n",
    "device_index = {}\n",
    "device_indicies = {new_list: [] for new_list in range(len(deviceCounts))}\n",
    "# now you want to go through all devices\n",
    "for client_dev_index, device_name in enumerate(deviceCounts):\n",
    "    device_data_acc = accel.loc[accel['Model'] == device_name]\n",
    "    device_users = device_data_acc['User'].unique()\n",
    "    device_data_gyro = gyro.loc[gyro['Model'] == device_name]\n",
    "    device_users_gyro = device_data_gyro['User'].unique()\n",
    "\n",
    "        # now you want to go through all users\n",
    "        # if there is an empty dataframe then skip\n",
    "    if device_data_acc.empty or device_data_gyro.empty:\n",
    "        continue\n",
    "        # there is one user that does not use accelerometer\n",
    "    for user_index, user in enumerate(device_users_gyro):\n",
    "        user_device_acc = device_data_acc.loc[device_data_acc['User'] == user]\n",
    "        user_device_gyro = device_data_gyro.loc[device_data_gyro['User'] == user]\n",
    "\n",
    "        processed_class_data = []\n",
    "        processed_class_label = []\n",
    "            # now you want to go through all classes\n",
    "        for class_index, class_name in enumerate(classCounts):\n",
    "            if user_device_acc.size <= user_device_gyro.size:  # if more entries for gyro then use acc (choose the smallest class data set)\n",
    "                smallest_data = user_device_acc.loc[user_device_acc['gt'] == class_name]\n",
    "                filtered_gyro_data_ind = smallest_data.index\n",
    "            else:\n",
    "                smallest_data = user_device_gyro.loc[user_device_gyro['gt'] == class_name]\n",
    "                filtered_gyro_data_ind = smallest_data.index\n",
    "                # print(smallest_class_data)\n",
    "                # print(smallest_data)\n",
    "            if(smallest_data.empty):\n",
    "                continue\n",
    "            window_frame = deviceWindowFrame[int(client_dev_index / 2)]\n",
    "\n",
    "            split_res = np.split(smallest_data, np.where(np.diff(filtered_gyro_data_ind.to_numpy()) != 1)[0] + 1)\n",
    "            split_res = [newArr for newArr in split_res if len(newArr) >= window_frame]\n",
    "            indicies = (list(map(lambda x: x.index, split_res)))\n",
    "                # now that I have the indicies I can segment each dasta\n",
    "            for segmented_class_range in indicies:\n",
    "                acc_loc = accel.iloc[segmented_class_range]\n",
    "                acc_selected = acc_loc[['x', 'y', 'z']].to_numpy()\n",
    "                gyro_loc = gyro.iloc[segmented_class_range]\n",
    "                gyro_selected = gyro_loc[['x', 'y', 'z']].to_numpy()\n",
    "\n",
    "                combined_data = np.dstack((segment_data(acc_selected, deviceWindowFrame[client_dev_index],\n",
    "                                                            deviceWindowFrame[client_dev_index] / 2),\n",
    "                                               segment_data(gyro_selected, deviceWindowFrame[client_dev_index],\n",
    "                                                            deviceWindowFrame[client_dev_index] / 2)))\n",
    "\n",
    "                processed_class_data.append(combined_data)\n",
    "                processed_class_label.append(np.full(combined_data.shape[0], class_index, dtype=int))\n",
    "                # print(len(processed_class_data), 'the len after run')\n",
    "                    # print(processed_class_label[0].shape, processed_class_label)\n",
    "            temp_processed = np.vstack((processed_class_data))  # TODO for some reason sometimes this is empty\n",
    "            if client_dev_index < 5:\n",
    "                temp_processed = downSampleLowPass(np.float32(temp_processed),\n",
    "                                                       downSamplingRate[client_dev_index])\n",
    "            data_index = (len(userCounts) * client_dev_index) + user_index - index_offset\n",
    "            all_processed_data[data_index] = temp_processed\n",
    "            all_processed_label[data_index] = np.hstack(processed_class_label)\n",
    "            device_index[data_index] = np.full(all_processed_label[data_index].shape[0], client_dev_index)\n",
    "            device_indicies[client_dev_index].append(data_index)\n",
    "                # print(processed_class_data)\n",
    "print(all_processed_data)"
   ]
  },
  {
   "cell_type": "code",
   "execution_count": 39,
   "id": "ea0b4ea5a9491d3b",
   "metadata": {
    "collapsed": false,
    "ExecuteTime": {
     "end_time": "2023-11-20T13:48:32.111647Z",
     "start_time": "2023-11-20T13:48:32.039955Z"
    }
   },
   "outputs": [
    {
     "data": {
      "text/plain": "((44, 2457, 128, 6), (44, 2457))"
     },
     "execution_count": 39,
     "metadata": {},
     "output_type": "execute_result"
    }
   ],
   "source": [
    "largest_client = max([client.shape[0] for client in all_processed_data.values()])\n",
    "#pad the client data\n",
    "all_processed_data_padded = [np.pad(client, ((0, largest_client - client.shape[0]), (0, 0), (0, 0)), 'constant', constant_values=np.nan)\n",
    "                                 for client in all_processed_data.values()]\n",
    "\n",
    "\n",
    "all_processed_label_padded = [np.pad(client, ((0, largest_client - client.shape[0])), 'constant', constant_values=-1)\n",
    "                                 for client in all_processed_label.values()]\n",
    "\n",
    "\n",
    "\n",
    "# print(all_processed_data_padded) # all labels have been padded with -1 and all data has been padded with nan\n",
    "# print(all_processed_label_padded)\n",
    "padded_arr = np.asarray(all_processed_data_padded)\n",
    "padded_label = np.asarray(all_processed_label_padded)\n",
    "# padded_label = np.asarray(all_processed_label)\n",
    "# print(all_processed_label_pad.shape)\n",
    "padded_arr.shape, padded_label.shape"
   ]
  },
  {
   "cell_type": "code",
   "execution_count": 50,
   "id": "ddd3d686-bef8-450e-964f-0c28a09f574d",
   "metadata": {
    "ExecuteTime": {
     "end_time": "2023-11-20T15:49:34.414683Z",
     "start_time": "2023-11-20T15:49:34.298836Z"
    }
   },
   "outputs": [
    {
     "name": "stdout",
     "output_type": "stream",
     "text": [
      "dropping client 16 [1, 3, 5]\n",
      "dropping client 43 [0, 2, 3, 4, 5]\n",
      "(42, 2457, 128, 6) (42, 2457)\n"
     ]
    }
   ],
   "source": [
    "delete_items = []\n",
    "# removing clients that do not have all classes\n",
    "for index, i in enumerate(padded_label):\n",
    "    filtered = list(filter(lambda x: x!=-1,np.unique(i)))\n",
    "    if(len(filtered) < len(classCounts)):\n",
    "        print('dropping client', index, filtered)\n",
    "        delete_items.append(index)\n",
    "        for k, v in device_indicies.items():\n",
    "            if index in v:\n",
    "                device_indicies[k].remove(index)\n",
    "                \n",
    "padded_dropped_data =  np.delete(padded_arr, delete_items, axis=0)\n",
    "padded_dropped_label = np.delete(padded_label, delete_items, axis=0)\n",
    "print(padded_dropped_data.shape, padded_dropped_label.shape)"
   ]
  },
  {
   "cell_type": "code",
   "execution_count": 52,
   "outputs": [
    {
     "data": {
      "text/plain": "[(2457, 128, 6),\n (2457, 128, 6),\n (2457, 128, 6),\n (2457, 128, 6),\n (2457, 128, 6),\n (2457, 128, 6),\n (2457, 128, 6),\n (2457, 128, 6),\n (2457, 128, 6),\n (2457, 128, 6),\n (2457, 128, 6),\n (2457, 128, 6),\n (2457, 128, 6),\n (2457, 128, 6),\n (2457, 128, 6),\n (2457, 128, 6),\n (2457, 128, 6),\n (2457, 128, 6),\n (2457, 128, 6),\n (2457, 128, 6),\n (2457, 128, 6),\n (2457, 128, 6),\n (2457, 128, 6),\n (2457, 128, 6),\n (2457, 128, 6),\n (2457, 128, 6),\n (2457, 128, 6),\n (2457, 128, 6),\n (2457, 128, 6),\n (2457, 128, 6),\n (2457, 128, 6),\n (2457, 128, 6),\n (2457, 128, 6),\n (2457, 128, 6),\n (2457, 128, 6),\n (2457, 128, 6),\n (2457, 128, 6),\n (2457, 128, 6),\n (2457, 128, 6),\n (2457, 128, 6),\n (2457, 128, 6),\n (2457, 128, 6)]"
     },
     "execution_count": 52,
     "metadata": {},
     "output_type": "execute_result"
    }
   ],
   "source": [
    "[client.shape for client in padded_dropped_data]"
   ],
   "metadata": {
    "collapsed": false,
    "ExecuteTime": {
     "end_time": "2023-11-20T15:50:01.051704Z",
     "start_time": "2023-11-20T15:50:01.046438Z"
    }
   },
   "id": "9ff5161aa4a81288"
  },
  {
   "cell_type": "code",
   "execution_count": 60,
   "outputs": [
    {
     "name": "stdout",
     "output_type": "stream",
     "text": [
      "{0: [0, 1, 2, 3, 4, 5, 6, 7, 8], 1: [9, 10, 11, 12, 13, 14, 15, 16, 17], 2: [18, 19, 20, 21, 22, 23, 24, 25, 26], 3: [27, 28, 29, 30, 31, 32, 33, 34, 35], 4: [36, 37, 38, 39, 40, 41, 42, 43], 5: []}\n",
      "[9, 9, 9, 9, 8, 0]\n"
     ]
    }
   ],
   "source": [
    "device_size = []\n",
    "# print(device_indicies)\n",
    "for k,v in device_indicies.items():\n",
    "    device_indicies[k] = list(dict.fromkeys(v))\n",
    "    \n",
    "print(device_indicies)\n",
    "for k, v in device_indicies.items():\n",
    "    device_size.append(len(v))\n",
    "    \n",
    "print(device_size)"
   ],
   "metadata": {
    "collapsed": false,
    "ExecuteTime": {
     "end_time": "2023-11-20T16:09:01.406047Z",
     "start_time": "2023-11-20T16:09:01.402114Z"
    }
   },
   "id": "304fd97d33ebbfdd"
  },
  {
   "cell_type": "code",
   "execution_count": 54,
   "outputs": [
    {
     "data": {
      "text/plain": "[54, 51, 54, 54, 46, 0]"
     },
     "execution_count": 54,
     "metadata": {},
     "output_type": "execute_result"
    }
   ],
   "source": [
    "device_size"
   ],
   "metadata": {
    "collapsed": false,
    "ExecuteTime": {
     "end_time": "2023-11-20T15:58:10.374618Z",
     "start_time": "2023-11-20T15:58:10.367766Z"
    }
   },
   "id": "4167d13c3aabea78"
  },
  {
   "cell_type": "code",
   "execution_count": 55,
   "outputs": [
    {
     "name": "stdout",
     "output_type": "stream",
     "text": [
      "54\n",
      "51\n",
      "54\n",
      "54\n",
      "46\n",
      "0\n"
     ]
    }
   ],
   "source": [
    "end_index = 0\n",
    "for i in device_size:\n",
    "    print(i)"
   ],
   "metadata": {
    "collapsed": false,
    "ExecuteTime": {
     "end_time": "2023-11-20T15:59:38.672535Z",
     "start_time": "2023-11-20T15:59:38.653646Z"
    }
   },
   "id": "219b3d866ed1f8d7"
  },
  {
   "cell_type": "code",
   "execution_count": null,
   "outputs": [],
   "source": [],
   "metadata": {
    "collapsed": false
   },
   "id": "e1d91935d1492381"
  }
 ],
 "metadata": {
  "kernelspec": {
   "display_name": "Python 3 (ipykernel)",
   "language": "python",
   "name": "python3"
  },
  "language_info": {
   "codemirror_mode": {
    "name": "ipython",
    "version": 3
   },
   "file_extension": ".py",
   "mimetype": "text/x-python",
   "name": "python",
   "nbconvert_exporter": "python",
   "pygments_lexer": "ipython3",
   "version": "3.10.5"
  }
 },
 "nbformat": 4,
 "nbformat_minor": 5
}
